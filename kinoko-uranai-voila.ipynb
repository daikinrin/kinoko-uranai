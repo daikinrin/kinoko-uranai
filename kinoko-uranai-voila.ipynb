{
 "cells": [
  {
   "cell_type": "code",
   "execution_count": 1,
   "metadata": {
    "ExecuteTime": {
     "end_time": "2021-08-29T14:48:23.329971Z",
     "start_time": "2021-08-29T14:48:21.275777Z"
    }
   },
   "outputs": [],
   "source": [
    "from fastai.vision.all import *\n",
    "from fastai.vision.widgets import *\n",
    "from ipywidgets import *\n",
    "import jaconv\n",
    "import pathlib\n",
    "plt = platform.system()\n",
    "if plt == 'Linux': pathlib.WindowsPath = pathlib.PosixPath\n",
    "out_pl = widgets.Output()\n",
    "btn_upload = widgets.FileUpload()\n",
    "replace_dic = {\"_ッロウッ\":\" (group)\",\"シボリニア_ッラシリペッ\":\"キボリニア・グラキリペス\",\"ダッリョ\":\"ダクリオ\",\"ボタニボタケ\":\"ボタンイボタケ\",\"オホニテングタケ\":\"オオオニテングタケ\",\"オファライタケ\":\"オオワライタケ\",\"オリヴェ\":\"オリーブ\"}"
   ]
  },
  {
   "cell_type": "code",
   "execution_count": 2,
   "metadata": {
    "ExecuteTime": {
     "end_time": "2021-08-29T14:48:33.076295Z",
     "start_time": "2021-08-29T14:48:23.332990Z"
    }
   },
   "outputs": [
    {
     "name": "stderr",
     "output_type": "stream",
     "text": [
      "Downloading...\n",
      "From: https://drive.google.com/u/1/uc?id=1Q7jugVCIZfojGYs_ikyJG6rqXXPhRzYF&export=download\n",
      "To: C:\\Users\\Atsushi Nakajima\\Dropbox\\notebooks\\kinoko-uranai.pkl\n",
      "90.1MB [00:07, 11.3MB/s]\n"
     ]
    }
   ],
   "source": [
    "path = Path()\n",
    "import gdown\n",
    "url = \"https://drive.google.com/u/1/uc?id=1Q7jugVCIZfojGYs_ikyJG6rqXXPhRzYF&export=download\"\n",
    "file_name = \"kinoko-uranai.pkl\"\n",
    "gdown.download(url, file_name)\n",
    "model_inf = load_learner(path / file_name, cpu=True)\n",
    "# model_inf = load_learner(path/\"all_20210829_res34.pkl\", cpu=True)"
   ]
  },
  {
   "cell_type": "code",
   "execution_count": 3,
   "metadata": {
    "ExecuteTime": {
     "end_time": "2021-08-29T14:48:33.092277Z",
     "start_time": "2021-08-29T14:48:33.077326Z"
    }
   },
   "outputs": [],
   "source": [
    "def on_data_change(change):\n",
    "    img = PILImage.create(btn_upload.data[-1])\n",
    "    out_pl.clear_output()\n",
    "    with out_pl: display(img.to_thumb(448,448))\n",
    "    result_dic = {}\n",
    "    pred_class, pred_idxs, outputs = model_inf.predict(img)\n",
    "    top_5_conf, i = outputs.topk(5)\n",
    "    itr = 0\n",
    "    classes = model_inf.dls.vocab\n",
    "    buf = []\n",
    "    for x in i:\n",
    "        kwamei = jaconv.alphabet2kata(classes[x.item()].lower())\n",
    "        for k,v in replace_dic.items():\n",
    "            kwamei = kwamei.replace(k,v)\n",
    "        proba = round(top_5_conf[itr].item(),3)\n",
    "        if proba != 0:\n",
    "            buf.append(kwamei+\" \"+str(proba*100)[:4]+\"%\")\n",
    "        itr=itr+1\n",
    "    buf = \" / \".join(buf)\n",
    "    htmlWidget = widgets.HTML(value = f\"<span style='color:steelblue;font-size:medium;'><b>【今日のラッキーきのこ】</b></span>\")        \n",
    "    with out_pl: display(htmlWidget)\n",
    "    htmlWidget = widgets.HTML(value = f\"<span style='color:maroon;font-size:large;'>{buf}</span>\")\n",
    "    with out_pl: display(htmlWidget) "
   ]
  },
  {
   "cell_type": "code",
   "execution_count": 4,
   "metadata": {
    "ExecuteTime": {
     "end_time": "2021-08-29T14:48:33.124192Z",
     "start_time": "2021-08-29T14:48:33.093269Z"
    }
   },
   "outputs": [
    {
     "data": {
      "application/vnd.jupyter.widget-view+json": {
       "model_id": "631b6e202d58451cbabee494ddba880f",
       "version_major": 2,
       "version_minor": 0
      },
      "text/plain": [
       "VBox(children=(Label(value='きのこうらない'), FileUpload(value={}, description='Upload'), Output()))"
      ]
     },
     "metadata": {},
     "output_type": "display_data"
    },
    {
     "data": {
      "text/html": [],
      "text/plain": [
       "<IPython.core.display.HTML object>"
      ]
     },
     "metadata": {},
     "output_type": "display_data"
    }
   ],
   "source": [
    "btn_upload.observe(on_data_change, names=['data'])\n",
    "display(VBox([widgets.Label(\"きのこうらない\"), btn_upload, out_pl]))"
   ]
  },
  {
   "cell_type": "code",
   "execution_count": null,
   "metadata": {},
   "outputs": [],
   "source": []
  }
 ],
 "metadata": {
  "kernelspec": {
   "display_name": "Python 3",
   "language": "python",
   "name": "python3"
  },
  "language_info": {
   "codemirror_mode": {
    "name": "ipython",
    "version": 3
   },
   "file_extension": ".py",
   "mimetype": "text/x-python",
   "name": "python",
   "nbconvert_exporter": "python",
   "pygments_lexer": "ipython3",
   "version": "3.7.6"
  },
  "varInspector": {
   "cols": {
    "lenName": 16,
    "lenType": 16,
    "lenVar": 40
   },
   "kernels_config": {
    "python": {
     "delete_cmd_postfix": "",
     "delete_cmd_prefix": "del ",
     "library": "var_list.py",
     "varRefreshCmd": "print(var_dic_list())"
    },
    "r": {
     "delete_cmd_postfix": ") ",
     "delete_cmd_prefix": "rm(",
     "library": "var_list.r",
     "varRefreshCmd": "cat(var_dic_list()) "
    }
   },
   "types_to_exclude": [
    "module",
    "function",
    "builtin_function_or_method",
    "instance",
    "_Feature"
   ],
   "window_display": false
  }
 },
 "nbformat": 4,
 "nbformat_minor": 4
}
